{
 "cells": [
  {
   "cell_type": "markdown",
   "metadata": {},
   "source": [
    "<table width=\"100%\" border=\"0\">\n",
    "  <tr>    \n",
    "  <td><img src=\"./images/ing.png\" alt=\"\" align=\"left\" /></td>\n",
    "  <td><img src=\"./images/ucv.png\" alt=\"\" align=\"center\" height=\"100\" width=\"100\" /></td>\n",
    "  <td><img src=\"./images/mec.png\" alt=\"\" align=\"right\"/></td>\n",
    "  </tr>\n",
    "</table>\n",
    "\n",
    "<br>\n",
    "\n",
    "<h1 style=\"text-align: center;\"> Curso de Python para Ingenieros Mecánicos </h1> \n",
    "<h3 style=\"text-align: center;\"> Por: Eduardo Vieira</h3>\n",
    "<br>\n",
    "<br>\n",
    "<h1 style=\"text-align: center;\"> Introducción </h1> \n",
    "<br>"
   ]
  },
  {
   "cell_type": "markdown",
   "metadata": {},
   "source": [
    "Versión original en inglés de J.R. Johansson (robert@riken.jp) http://jrjohansson.github.io/\n",
    "\n",
    "También se han incluido elementos del tutorial de Damián Avila https://github.com/damianavila/Python-Cientifico-HCC y del cusro de Python para Ingenieros aeronáuticos de Juan cano https://github.com/AeroPython/Curso_AeroPython\n",
    "\n",
    "Traducido/Adaptado por [G.F. Rubilar](http://google.com/+GuillermoRubilar).\n",
    "\n",
    "Con modificaciones y contenido propio."
   ]
  },
  {
   "cell_type": "markdown",
   "metadata": {},
   "source": [
    "# El Lenguaje de programación Python"
   ]
  },
  {
   "cell_type": "markdown",
   "metadata": {},
   "source": [
    "## ¿Qué es Python?"
   ]
  },
  {
   "cell_type": "markdown",
   "metadata": {},
   "source": [
    "[Python](http://www.python.org/) es un lenguaje de programación moderno, _de propósito general_, _orientado al objeto_ y de _alto nivel_. Fue creado por [Guido van Rossum](http://es.wikipedia.org/wiki/Guido_van_Rossum), conocido como el BDFL (\"Benevolent Dictator for Life\", es decir \"Dictador Benevolente Vitalicio\" del proyecto Python). La primera versión (0.9.0) de Python fue lanzada en 1991, y la versión 1.0 en 1994.\n",
    "\n",
    "<img src=\"http://upload.wikimedia.org/wikipedia/commons/thumb/6/66/Guido_van_Rossum_OSCON_2006.jpg/400px-Guido_van_Rossum_OSCON_2006.jpg\" width=\"150\">\n",
    "\n",
    "**Algunos de los principios bajo los que está concebido el lenguaje (Tim Peters, \"El Zen de Python\") son:**\n",
    "\n",
    "* Bello es mejor que feo.\n",
    "* Explícito es mejor que implícito.\n",
    "* Simple es mejor que complejo.\n",
    "* Complejo es mejor que complicado.\n",
    "* La legibilidad cuenta.\n",
    "* Los casos especiales no son tan especiales como para quebrantar las reglas.\n",
    "\n",
    "**Características generales de Python:**\n",
    "\n",
    "* Lenguaje **fácil de aprender**.\n",
    "* Lenguaje **versátil** en su utilización.\n",
    "* **Lenguaje limpio y simple:** Código fácil de leer e intuitivo, sintaxis minimalista y fácil de aprender. Su mantención escala bien con el tamaño de los proyectos.\n",
    "* Incorpora una colección de **herramienta básicas** para el tratamiento y visualización de datos.\n",
    "* Suministra un \"entorno\" **unificado** e **interactivo**.\n",
    "* Requiere un tiempo de desarrollo **reducido** y un tiempo de ejecución **razonable**.\n",
    "\n",
    "**Detalles técnicos:**\n",
    "\n",
    "* **Tipado dinámico:** No se necesita definir el tipo de las variables, argumentos de funciones, ni tipos de retorno.\n",
    "* **Manejo de memoria automático:** No se necesita reservar explícitamente memoria para las variables y los arreglos de datos. Sin bugs de fuga de memoria. \n",
    "* **Interpretado:** No se requiere compilar el código. El intérprete Python lee y ejecuta el código python directamente.\n",
    "\n",
    "**Ventajas de Python:**\n",
    "\n",
    "* La principal ventaja es la facilidad de programar, minimizando el tiempo requerido para desarrollar, depurar y mantener el código.\n",
    "* Lenguaje bien diseñado que fomenta muchas buenas prácticas de programación:\n",
    " * Programación modular y orientada al objeto, buen sistema para empaquetar y reusar código. Esto a menudo resulta en un código más transparente, mantenible, y libre de bugs.\n",
    " * Documentación estréchamente integrada al código.\n",
    "* Un gran librería estandar, y una gran colección de paquetes externos.\n",
    "\n",
    "**Desventajas de Python:**\n",
    "\n",
    "* Como Python es un lenguaje interpretado y de tipado dinámico, la ejecución de código python puede ser lenta comparada con lenguajes compilados y de tipado estático, tales como C y Fortran. \n",
    "* Algo descentralizado, con diferentes ambientes, paquetes y documentación diseminada en distintos lugares. Esto puede hacer difícil el comienzo."
   ]
  },
  {
   "cell_type": "code",
   "execution_count": null,
   "metadata": {
    "collapsed": true
   },
   "outputs": [],
   "source": [
    "import this"
   ]
  },
  {
   "cell_type": "markdown",
   "metadata": {},
   "source": [
    "### Python versus Matlab"
   ]
  },
  {
   "cell_type": "markdown",
   "metadata": {},
   "source": [
    "**Ventajas de Matlab**:\n",
    "\n",
    "* Múltiples bibliotecas con numerosos algoritmos para la resolución de diferentes problemas.\n",
    "* Una rápida ejecución debido a que las bibliotecas están, normalmente, escritas en un lenguaje compilado.\n",
    "* Un entorno de desarrollo *agradable* y funcional.\n",
    "* Soporte comercial disponible.\n",
    "\n",
    "**Desventajas de Matlab**:\n",
    "\n",
    "* El lenguaje de base puede ser *restrictivo* para usuarios avanzados. No hay acceso al código fuente.\n",
    "* \"Show me the money...\""
   ]
  },
  {
   "cell_type": "markdown",
   "metadata": {},
   "source": [
    "### Python versus lenguajes compilados (Fortran, C, C++)"
   ]
  },
  {
   "cell_type": "markdown",
   "metadata": {},
   "source": [
    "**Ventajas de Fortran, C, C++**:\n",
    "\n",
    "* Rápidos.\n",
    "* Compiladores **super** optimizados.\n",
    "* Bibliotecas científicas **super** optimizadas (desde antaño).\n",
    "\n",
    "**Desventajas de Fortan, C, C++**:\n",
    "\n",
    "* No hay interactividad durante el desarrollo (necesariamente, hay un paso de compilación).\n",
    "* Sintaxis compleja.\n",
    "* Manejo manual de la memoria."
   ]
  },
  {
   "cell_type": "markdown",
   "metadata": {},
   "source": [
    "## ¿Qué hace a Python adecuado para la Computación Científica?"
   ]
  },
  {
   "cell_type": "markdown",
   "metadata": {},
   "source": [
    "<!-- offline version <img src=\"files/images/optimizing-what.png\" width=\"300\"> -->\n",
    "<img src=\"https://raw.github.com/gfrubi/clases-python-cientifico/master/images/optimizing-what.png\" width=\"600\">\n",
    "\n",
    "* Python tiene una posición fuerte en la computación científica: \n",
    "    * Gran comunidad de usuarios. Es fácil encontrar ayuda y documentación.\n",
    "\n",
    "* Extenso ecosistema de librerías científicas y entornos\n",
    "    * Numpy: http://numpy.scipy.org - Python Numérico.\n",
    "    * Scipy: http://www.scipy.org -  Python Científico.\n",
    "    * Matplotlib: http://www.matplotlib.org - Librerías Gráficas.\n",
    "\n",
    "* Gran desempeño debido a la gran integración con códigos altamente testeados y optimizados escritos en C y Fortran:\n",
    "    * blas, atlas blas, lapack, arpack, Intel MKL, ...\n",
    "\n",
    "* Buen soporte para:\n",
    "    * Procesamiento en paralelo.\n",
    "    * Comunicación entre procesos (Interprocess communication, MPI).\n",
    "    * Cálculo con GPU (OpenCL y CUDA).\n",
    "* Disponible y apropiado para uso con cluster de cálculo de alto desempeño (high-performance computing clusters). \n",
    "* ¡Sin costos de licencia y de código abierto!.\n",
    "* Creciente y pujante comunidad apoyando el desarrollo y evolución del lenguaje.\n",
    "\n",
    "**Desventajas**:\n",
    "\n",
    "* Un entorno de desarrollo menos *agradable* comparado con Matlab (**totalmente discutible...**. **Esto está cambiando rápidamente gracias a los [IPython Notebooks](http://ipython.org/notebook.html)**). \n",
    "* Algunos algoritmos especializados todavía no se han desarrollado (**pero no falta mucho...**).\n",
    "* Relativamente lento... (**varias soluciones disponible y en desarrollo**)."
   ]
  },
  {
   "cell_type": "markdown",
   "metadata": {},
   "source": [
    "## Spyder"
   ]
  },
  {
   "cell_type": "markdown",
   "metadata": {},
   "source": [
    "[Spyder](http://code.google.com/p/spyderlib/) es un IDE (entorno de desarrollo interactivo, por su sigla en inglés) similar a MATLAB para computación científica con Python. Tiene muchas de las ventajas de un IDE, como por ejemplo que todo, desde la edición del código, su ejecución y depuración, es realizado en un mismo entorno, y el trabajo de diferentes cálculos puede ser organizado como proyectos en el IDE.\n",
    "\n",
    "<!-- <img src=\"files/images/spyder-screenshot.jpg\" width=\"800\"> -->\n",
    "<img src=\"https://raw.github.com/gfrubi/clases-python-cientifico/master/images/spyder-screenshot.jpg\" width=\"800\">\n",
    "\n",
    "Algunas ventajas de Spyder:\n",
    "\n",
    "* Poderoso editor de código, con coloreado de sintaxis, introspección dinámica de código, e integración con el depurador de Python.\n",
    "* Explorador de variables, prompt de comando IPython.\n",
    "* Documentación y ayuda integrada."
   ]
  },
  {
   "cell_type": "markdown",
   "metadata": {},
   "source": [
    "## IPython (Jupyter) notebook"
   ]
  },
  {
   "cell_type": "markdown",
   "metadata": {},
   "source": [
    "[IPython notebook](http://ipython.org/notebook.html) es un entorno \"de cuaderno'' basado en HTML para Python, similar a Mathematica o Maple. Originalmente estaba basado en la shell IPython, pero suministrando un ambiente basado en celdas con gran interactividad, donde los cálculos pueden ser organizados y documentados en una forma estructurada.\n",
    "\n",
    "<!-- <img src=\"files/images/ipython-notebook-screenshot.png\" width=\"800\"> -->\n",
    "<img src=\"https://raw.github.com/gfrubi/clases-python-cientifico/master/images/ipython-notebook-screenshot.png\" width=\"800\">\n",
    "\n",
    "Aunque se usa el navegador web con interfase gráfica, los notebooks IPython/Jupyter usualmente se ejecutan localmente, en el mismo computador que ejecuta el navegador. Para iniciar una nueva sesión de IPython notebook, ejecute el siguiente comando:\n",
    "\n",
    "    $ ipython notebook\n",
    "\n",
    "desde una carpeta en que que desea almacenar los cuadernos. Esto abrirá una nueva ventana del navegador (o una nueva pestaña en una ventana existente) con una página índice donde se muestran los cuadernos existentes y desde donde nuevos cuadernos pueden ser creados.\n",
    "\n",
    "En el año 2014, los desarrolladores del Ipython Notebook decidieron crear el proyecto [Jupyter](http://jupyter.org/) que independiza la interfase del notebook del lenguaje de programación particular que se use (originalmente, Python). Esto permite usar las funcionalidades de interactividad de los notebooks con distintos lenguajes."
   ]
  },
  {
   "cell_type": "markdown",
   "metadata": {},
   "source": [
    "## Versiones de Python"
   ]
  },
  {
   "cell_type": "markdown",
   "metadata": {},
   "source": [
    "Existen actualmente dos versiones de Python: Python 2 y Python 3. Python 3 eventualmente reemplazará a Python 2, pero no es 100% compatible con Python 2. Mucho del código Python existente ha sido escrito para Python 2, y aún es la versión más popular. En estas clases cualquiera de las dos versiones puede usarse, pero es probablemente más simple quedarse con Python 2 por ahora, ya que está más comúnmente disponible en paquetes precompilados e instaladores binarios.\n",
    "\n",
    "Para ver qué versión de Python tiene, ejecute\n",
    "    \n",
    "    $ python --version\n",
    "    Python 2.7.6\n",
    "    \n",
    "    $ python3 --version\n",
    "    Python 3.4.0\n",
    "\n",
    "Es posible instalar varias versiones de Python en paralelo."
   ]
  },
  {
   "cell_type": "code",
   "execution_count": 2,
   "metadata": {},
   "outputs": [],
   "source": [
    "# Esta celda da el estilo al notebook\n",
    "from IPython.core.display import HTML\n",
    "css_file = './css/aeropython.css'\n",
    "HTML(open(css_file, \"r\").read())"
   ]
  }
 ],
 "metadata": {
  "kernelspec": {
   "display_name": "Python 3",
   "language": "python",
   "name": "python3"
  },
  "language_info": {
   "codemirror_mode": {
    "name": "ipython",
    "version": 3
   },
   "file_extension": ".py",
   "mimetype": "text/x-python",
   "name": "python",
   "nbconvert_exporter": "python",
   "pygments_lexer": "ipython3",
   "version": "3.6.2"
  }
 },
 "nbformat": 4,
 "nbformat_minor": 1
}
